{
  "nbformat": 4,
  "nbformat_minor": 0,
  "metadata": {
    "colab": {
      "name": "BFS.ipynb",
      "provenance": [],
      "collapsed_sections": []
    },
    "kernelspec": {
      "name": "python3",
      "display_name": "Python 3"
    }
  },
  "cells": [
    {
      "cell_type": "code",
      "metadata": {
        "id": "1JYaNJh7EPUE",
        "colab_type": "code",
        "colab": {}
      },
      "source": [
        "dict={'s':['p','e','d'],\n",
        "      'p':['q'],\n",
        "      'e':['h','r'],\n",
        "      'd':['b','c','e'],\n",
        "      'q':[],\n",
        "      'h':['q','p'],\n",
        "      'r':['f'],\n",
        "      'b':['a'],\n",
        "      'c':['a'],\n",
        "      'a':[],\n",
        "      'f':['c','g'],\n",
        "      'g':[]}"
      ],
      "execution_count": 2,
      "outputs": []
    },
    {
      "cell_type": "markdown",
      "metadata": {
        "id": "TlTRWVjMBibO",
        "colab_type": "text"
      },
      "source": [
        "### BFS(Breadth First Search)"
      ]
    },
    {
      "cell_type": "code",
      "metadata": {
        "id": "m-aNq7S7Fa76",
        "colab_type": "code",
        "colab": {
          "base_uri": "https://localhost:8080/",
          "height": 218
        },
        "outputId": "5c460210-eec3-425d-c8c9-6b3a833694e7"
      },
      "source": [
        "p=['s']\n",
        "temp=[]\n",
        "i=0\n",
        "print(len(dict))\n",
        "while i!=len(dict):\n",
        "  z=p[0]\n",
        "  temp.append(p[0])\n",
        "  p.remove(p[0])\n",
        "  for j in dict[z]:\n",
        "    if j not in p and j not in temp:\n",
        "      p.append(j)\n",
        "  \n",
        "  if p[0]=='g':\n",
        "    break\n",
        "  i=i+1\n",
        "\n"
      ],
      "execution_count": 3,
      "outputs": [
        {
          "output_type": "stream",
          "text": [
            "12\n",
            "['p', 'e', 'd']\n",
            "['e', 'd', 'q']\n",
            "['d', 'q', 'h', 'r']\n",
            "['q', 'h', 'r', 'b', 'c']\n",
            "['h', 'r', 'b', 'c']\n",
            "['r', 'b', 'c']\n",
            "['b', 'c', 'f']\n",
            "['c', 'f', 'a']\n",
            "['f', 'a']\n",
            "['a', 'g']\n",
            "['g']\n"
          ],
          "name": "stdout"
        }
      ]
    },
    {
      "cell_type": "markdown",
      "metadata": {
        "id": "imGFf-HCBk5A",
        "colab_type": "text"
      },
      "source": [
        "### DFS(Depth First Search)"
      ]
    },
    {
      "cell_type": "code",
      "metadata": {
        "id": "GlqKGinhMjBu",
        "colab_type": "code",
        "colab": {
          "base_uri": "https://localhost:8080/",
          "height": 202
        },
        "outputId": "bbe9bdde-887a-4ed4-f454-253c2852f8a3"
      },
      "source": [
        "p=['s']\n",
        "temp=[]\n",
        "i=0\n",
        "print(p)\n",
        "while i!=len(dict):\n",
        "  z=p[len(p)-1]\n",
        "  temp.append(z)\n",
        "  p.remove(p[len(p)-1])\n",
        "  for j in dict[z]:\n",
        "    if j not in p and j not in temp:\n",
        "      p.append(j)\n",
        "  print(p)\n",
        "  if p[len(p)-1]=='g':\n",
        "    break\n",
        "  i=i+1\n",
        "print(\"pop elements: \")\n",
        "print(temp)\n"
      ],
      "execution_count": 4,
      "outputs": [
        {
          "output_type": "stream",
          "text": [
            "['s']\n",
            "['p', 'e', 'd']\n",
            "['p', 'e', 'b', 'c']\n",
            "['p', 'e', 'b', 'a']\n",
            "['p', 'e', 'b']\n",
            "['p', 'e']\n",
            "['p', 'h', 'r']\n",
            "['p', 'h', 'f']\n",
            "['p', 'h', 'g']\n",
            "pop elements: \n",
            "['s', 'd', 'c', 'a', 'b', 'e', 'r', 'f']\n"
          ],
          "name": "stdout"
        }
      ]
    },
    {
      "cell_type": "code",
      "metadata": {
        "id": "7-WfE_S4A49G",
        "colab_type": "code",
        "colab": {}
      },
      "source": [
        ""
      ],
      "execution_count": 4,
      "outputs": []
    }
  ]
}