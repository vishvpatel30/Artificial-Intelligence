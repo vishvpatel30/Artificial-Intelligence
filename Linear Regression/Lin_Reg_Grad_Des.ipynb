{
  "nbformat": 4,
  "nbformat_minor": 0,
  "metadata": {
    "colab": {
      "name": "Lin_Reg_Grad_Des.ipynb",
      "provenance": [],
      "collapsed_sections": []
    },
    "kernelspec": {
      "name": "python3",
      "display_name": "Python 3"
    }
  },
  "cells": [
    {
      "cell_type": "code",
      "metadata": {
        "id": "EsptptyHqOxe",
        "colab_type": "code",
        "colab": {}
      },
      "source": [
        "import numpy as np\n",
        "import matplotlib.pyplot as plt"
      ],
      "execution_count": null,
      "outputs": []
    },
    {
      "cell_type": "code",
      "metadata": {
        "id": "SUhAVc8huuet",
        "colab_type": "code",
        "colab": {
          "base_uri": "https://localhost:8080/",
          "height": 34
        },
        "outputId": "62417801-78ee-4516-85c8-2bd759c7b18c"
      },
      "source": [
        "x=np.array([1,2,3,4,5])\n",
        "y=np.array([10, 40, 50, 78, 83])\n",
        "x\n",
        "y\n"
      ],
      "execution_count": null,
      "outputs": [
        {
          "output_type": "execute_result",
          "data": {
            "text/plain": [
              "array([10, 40, 50, 78, 83])"
            ]
          },
          "metadata": {
            "tags": []
          },
          "execution_count": 2
        }
      ]
    },
    {
      "cell_type": "code",
      "metadata": {
        "id": "q52lkFOivMj0",
        "colab_type": "code",
        "colab": {
          "base_uri": "https://localhost:8080/",
          "height": 282
        },
        "outputId": "ba3b0c66-8be8-4e51-c554-0c1aedb6f3ae"
      },
      "source": [
        "plt.plot(x,y)"
      ],
      "execution_count": null,
      "outputs": [
        {
          "output_type": "execute_result",
          "data": {
            "text/plain": [
              "[<matplotlib.lines.Line2D at 0x7fcabba484a8>]"
            ]
          },
          "metadata": {
            "tags": []
          },
          "execution_count": 3
        },
        {
          "output_type": "display_data",
          "data": {
            "image/png": "[encoded data removed]",
            "text/plain": [
              "<Figure size 432x288 with 1 Axes>"
            ]
          },
          "metadata": {
            "tags": []
          }
        }
      ]
    },
    {
      "cell_type": "code",
      "metadata": {
        "id": "oqNE2fHlvRsd",
        "colab_type": "code",
        "colab": {
          "base_uri": "https://localhost:8080/",
          "height": 282
        },
        "outputId": "7df014d2-2003-45a8-8bf3-04d96e9954a4"
      },
      "source": [
        "plt.scatter(x,y)"
      ],
      "execution_count": null,
      "outputs": [
        {
          "output_type": "execute_result",
          "data": {
            "text/plain": [
              "<matplotlib.collections.PathCollection at 0x7fcabb59fb70>"
            ]
          },
          "metadata": {
            "tags": []
          },
          "execution_count": 4
        },
        {
          "output_type": "display_data",
          "data": {
            "image/png": "[encoded data removed]",
            "text/plain": [
              "<Figure size 432x288 with 1 Axes>"
            ]
          },
          "metadata": {
            "tags": []
          }
        }
      ]
    },
    {
      "cell_type": "code",
      "metadata": {
        "id": "ud79VflfwnAd",
        "colab_type": "code",
        "colab": {
          "base_uri": "https://localhost:8080/",
          "height": 52
        },
        "outputId": "e11e6365-0c2e-460c-d5e5-9e0024be8d5d"
      },
      "source": [
        "  xx=np.mean(x)\n",
        "  yy=np.mean(y)\n",
        "\n",
        "print(xx)\n",
        "print(yy)"
      ],
      "execution_count": null,
      "outputs": [
        {
          "output_type": "stream",
          "text": [
            "3.0\n",
            "52.2\n"
          ],
          "name": "stdout"
        }
      ]
    },
    {
      "cell_type": "code",
      "metadata": {
        "id": "SUfrD6hNynij",
        "colab_type": "code",
        "colab": {
          "base_uri": "https://localhost:8080/",
          "height": 34
        },
        "outputId": "71526aa6-e084-474c-c216-a0661de333eb"
      },
      "source": [
        "b1=0\n",
        "for i in range(len(x)):\n",
        "  b1+=x[i]*y[i] - yy*x[i]\n",
        "print(b1)"
      ],
      "execution_count": null,
      "outputs": [
        {
          "output_type": "stream",
          "text": [
            "183.99999999999994\n"
          ],
          "name": "stdout"
        }
      ]
    },
    {
      "cell_type": "code",
      "metadata": {
        "id": "KxHqAHe50U59",
        "colab_type": "code",
        "colab": {
          "base_uri": "https://localhost:8080/",
          "height": 34
        },
        "outputId": "0c16e6e5-54c3-43d2-e873-73b9db170c82"
      },
      "source": [
        "b2=0\n",
        "for i in range(len(x)):\n",
        "  b2+=x[i]**2 - xx*x[i]\n",
        "print(b2)"
      ],
      "execution_count": null,
      "outputs": [
        {
          "output_type": "stream",
          "text": [
            "10.0\n"
          ],
          "name": "stdout"
        }
      ]
    },
    {
      "cell_type": "code",
      "metadata": {
        "id": "csKkTLni0lYm",
        "colab_type": "code",
        "colab": {
          "base_uri": "https://localhost:8080/",
          "height": 34
        },
        "outputId": "620dfeb9-4ac0-49ef-d137-b69218814990"
      },
      "source": [
        "b=b1/b2\n",
        "print(b)"
      ],
      "execution_count": null,
      "outputs": [
        {
          "output_type": "stream",
          "text": [
            "18.399999999999995\n"
          ],
          "name": "stdout"
        }
      ]
    },
    {
      "cell_type": "code",
      "metadata": {
        "id": "H6jHv5v40tOC",
        "colab_type": "code",
        "colab": {
          "base_uri": "https://localhost:8080/",
          "height": 34
        },
        "outputId": "dbd9fd6a-6625-4782-8a13-973c82c86900"
      },
      "source": [
        "a=yy-b*xx\n",
        "print(a)"
      ],
      "execution_count": null,
      "outputs": [
        {
          "output_type": "stream",
          "text": [
            "-2.999999999999986\n"
          ],
          "name": "stdout"
        }
      ]
    },
    {
      "cell_type": "code",
      "metadata": {
        "id": "FxS_VM9O0-KF",
        "colab_type": "code",
        "colab": {
          "base_uri": "https://localhost:8080/",
          "height": 34
        },
        "outputId": "0a4a1c53-4490-43b6-df85-8a5f5d326278"
      },
      "source": [
        "yyy=a+b*x\n",
        "print(yyy)"
      ],
      "execution_count": null,
      "outputs": [
        {
          "output_type": "stream",
          "text": [
            "[15.4 33.8 52.2 70.6 89. ]\n"
          ],
          "name": "stdout"
        }
      ]
    },
    {
      "cell_type": "code",
      "metadata": {
        "id": "m1RZeTim2VvF",
        "colab_type": "code",
        "colab": {
          "base_uri": "https://localhost:8080/",
          "height": 282
        },
        "outputId": "ab5f69b0-a9ba-4acd-b7fb-22503946302b"
      },
      "source": [
        "plt.plot(x,yyy)\n",
        "plt.scatter(x,y)"
      ],
      "execution_count": null,
      "outputs": [
        {
          "output_type": "execute_result",
          "data": {
            "text/plain": [
              "<matplotlib.collections.PathCollection at 0x7fcab8cf8dd8>"
            ]
          },
          "metadata": {
            "tags": []
          },
          "execution_count": 11
        },
        {
          "output_type": "display_data",
          "data": {
            "image/png": "[encoded data removed]",
            "text/plain": [
              "<Figure size 432x288 with 1 Axes>"
            ]
          },
          "metadata": {
            "tags": []
          }
        }
      ]
    },
    {
      "cell_type": "code",
      "metadata": {
        "id": "77EexalY2cVW",
        "colab_type": "code",
        "colab": {
          "base_uri": "https://localhost:8080/",
          "height": 34
        },
        "outputId": "37afa4ab-8a54-43be-d898-ce660699246d"
      },
      "source": [
        "a=[]\n",
        "for i in range(30):\n",
        "  a.append(i+1)\n",
        "print(a)"
      ],
      "execution_count": null,
      "outputs": [
        {
          "output_type": "stream",
          "text": [
            "[1, 2, 3, 4, 5, 6, 7, 8, 9, 10, 11, 12, 13, 14, 15, 16, 17, 18, 19, 20, 21, 22, 23, 24, 25, 26, 27, 28, 29, 30]\n"
          ],
          "name": "stdout"
        }
      ]
    },
    {
      "cell_type": "code",
      "metadata": {
        "id": "GBgIJcqFKLpB",
        "colab_type": "code",
        "colab": {
          "base_uri": "https://localhost:8080/",
          "height": 34
        },
        "outputId": "1f45d76e-9b29-457c-dcf4-314363dc02a5"
      },
      "source": [
        "m=len(x)\n",
        "print(m)"
      ],
      "execution_count": null,
      "outputs": [
        {
          "output_type": "stream",
          "text": [
            "5\n"
          ],
          "name": "stdout"
        }
      ]
    },
    {
      "cell_type": "code",
      "metadata": {
        "id": "1AHTdg0MKRD6",
        "colab_type": "code",
        "colab": {}
      },
      "source": [
        "def loss(a,m,x,y,i):\n",
        "  ans=0\n",
        "  h=a[i]*x\n",
        "  z=(h-y)**2\n",
        "  for i in range(5):\n",
        "    ans+=z[i]\n",
        "  q=1/(2*m)\n",
        "  c=ans*q\n",
        "  return c\n"
      ],
      "execution_count": null,
      "outputs": []
    },
    {
      "cell_type": "code",
      "metadata": {
        "id": "SKxzNx0uKi-k",
        "colab_type": "code",
        "colab": {}
      },
      "source": [
        "p=[]\n",
        "for i in range(len(a)):\n",
        "  p.append(loss(a,m,x,y,i))\n",
        "pp=np.array(p)"
      ],
      "execution_count": null,
      "outputs": []
    },
    {
      "cell_type": "code",
      "metadata": {
        "id": "HDhgdpN9LgWl",
        "colab_type": "code",
        "colab": {
          "base_uri": "https://localhost:8080/",
          "height": 286
        },
        "outputId": "5e54e29b-e63b-4e63-dc4c-578d9df63eb9"
      },
      "source": [
        "plt.plot(a,pp)"
      ],
      "execution_count": null,
      "outputs": [
        {
          "output_type": "execute_result",
          "data": {
            "text/plain": [
              "[<matplotlib.lines.Line2D at 0x7fcab8c9a860>]"
            ]
          },
          "metadata": {
            "tags": []
          },
          "execution_count": 16
        },
        {
          "output_type": "display_data",
          "data": {
            "image/png": "[encoded data removed]",
            "text/plain": [
              "<Figure size 432x288 with 1 Axes>"
            ]
          },
          "metadata": {
            "tags": []
          }
        }
      ]
    },
    {
      "cell_type": "code",
      "metadata": {
        "id": "cAPaC3e_jpk1",
        "colab_type": "code",
        "colab": {
          "base_uri": "https://localhost:8080/",
          "height": 317
        },
        "outputId": "21351461-e926-4dc0-aced-733926224044"
      },
      "source": [
        "x=np.array([1,2,3,4,5])\n",
        "y=np.array([10, 40, 50, 78, 83])\n",
        "def abc(p1):\n",
        "  z1=[]\n",
        "  ans1=0\n",
        "  h=(p1*x)+p2\n",
        "  z=(h-y)*2\n",
        "  for i in range(5):\n",
        "    z1.append(z[i]*x[i])\n",
        "  for i in range(5):\n",
        "    ans1+=z1[i]\n",
        "  q=1/(2*m)\n",
        "  p1=q*ans1\n",
        "  return p1\n",
        "\n",
        "def bcd(p2):\n",
        "  ans2=0\n",
        "  h=(p1*x)+p2\n",
        "  z2=(h-y)*2\n",
        "  for i in range(5):\n",
        "    ans2+=z2[i]\n",
        "  q=1/(2*m)\n",
        "  p2=q*ans2\n",
        "  return p2\n",
        "\n",
        "def lo(p1,p2):\n",
        "  ans=0\n",
        "  h=(p1*x)+p2\n",
        "  z=(h-y)**2\n",
        "  for i in range(5):\n",
        "    ans+=z[i]\n",
        "  q=1/(2*m)\n",
        "  c=ans*q\n",
        "  return c\n",
        "\n",
        "null=[]\n",
        "for i in range(100):\n",
        "  null.append(i)\n",
        "p1=0\n",
        "p2=0\n",
        "m=5\n",
        "c=[]\n",
        "a=[]\n",
        "b=[]\n",
        "alpha=0.01\n",
        "for i in range(100):\n",
        "  w=lo(p1,p2)\n",
        "  c.append(w)\n",
        "  t_p1=abc(p1)\n",
        "  t_p2=bcd(p2)\n",
        "  p1=p1-(alpha*t_p1)\n",
        "  p2=p2-(alpha*t_p2)\n",
        "  a.append(p1)\n",
        "  b.append(p2)\n",
        "\n",
        "p11=np.array(a)\n",
        "p22=np.array(b)\n",
        "cc=np.array(c)\n",
        "print(p1)\n",
        "print(p2)\n",
        "plt.plot(cc,null)"
      ],
      "execution_count": null,
      "outputs": [
        {
          "output_type": "stream",
          "text": [
            "16.64133019493385\n",
            "3.3491402900567917\n"
          ],
          "name": "stdout"
        },
        {
          "output_type": "execute_result",
          "data": {
            "text/plain": [
              "[<matplotlib.lines.Line2D at 0x7fcab8c19400>]"
            ]
          },
          "metadata": {
            "tags": []
          },
          "execution_count": 17
        },
        {
          "output_type": "display_data",
          "data": {
            "image/png": "[encoded data removed]",
            "text/plain": [
              "<Figure size 432x288 with 1 Axes>"
            ]
          },
          "metadata": {
            "tags": []
          }
        }
      ]
    },
    {
      "cell_type": "code",
      "metadata": {
        "id": "Bd0xMkaKolRM",
        "colab_type": "code",
        "colab": {}
      },
      "source": [
        ""
      ],
      "execution_count": null,
      "outputs": []
    }
  ]
}