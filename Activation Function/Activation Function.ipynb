{
  "nbformat": 4,
  "nbformat_minor": 0,
  "metadata": {
    "colab": {
      "name": "ActivationFunction.ipynb",
      "provenance": [],
      "collapsed_sections": []
    },
    "kernelspec": {
      "name": "python3",
      "display_name": "Python 3"
    }
  },
  "cells": [
    {
      "cell_type": "code",
      "metadata": {
        "id": "qeDP5w3_MHYF",
        "colab_type": "code",
        "colab": {}
      },
      "source": [
        "import numpy as np\n",
        "import matplotlib.pyplot as plt"
      ],
      "execution_count": null,
      "outputs": []
    },
    {
      "cell_type": "code",
      "metadata": {
        "id": "L_JWGZRYMdix",
        "colab_type": "code",
        "colab": {
          "base_uri": "https://localhost:8080/",
          "height": 72
        },
        "outputId": "2f2953aa-830c-4472-cfcf-6ade82b32a7a"
      },
      "source": [
        "def sig_moid(x):\n",
        "  return 1/(1+np.exp(-x))\n",
        "\n",
        "x=list(range(-10,11))\n",
        "print(x)\n",
        "xx=np.array(x)\n",
        "print(xx)"
      ],
      "execution_count": null,
      "outputs": [
        {
          "output_type": "stream",
          "text": [
            "[-10, -9, -8, -7, -6, -5, -4, -3, -2, -1, 0, 1, 2, 3, 4, 5, 6, 7, 8, 9, 10]\n",
            "[-10  -9  -8  -7  -6  -5  -4  -3  -2  -1   0   1   2   3   4   5   6   7\n",
            "   8   9  10]\n"
          ],
          "name": "stdout"
        }
      ]
    },
    {
      "cell_type": "code",
      "metadata": {
        "id": "Hj-rhY-cNQru",
        "colab_type": "code",
        "colab": {}
      },
      "source": [
        "y=sig_moid(xx)"
      ],
      "execution_count": null,
      "outputs": []
    },
    {
      "cell_type": "code",
      "metadata": {
        "id": "9AuNl2iuNWBE",
        "colab_type": "code",
        "colab": {
          "base_uri": "https://localhost:8080/",
          "height": 283
        },
        "outputId": "da5e172d-fd14-4024-ea81-a6c23d08f723"
      },
      "source": [
        "plt.plot(xx,y)"
      ],
      "execution_count": null,
      "outputs": [
        {
          "output_type": "execute_result",
          "data": {
            "text/plain": [
              "[<matplotlib.lines.Line2D at 0x7f4be233fa90>]"
            ]
          },
          "metadata": {
            "tags": []
          },
          "execution_count": 4
        },
        {
          "output_type": "display_data",
          "data": {
            "image/png": "[encoded data removed]",
            "text/plain": [
              "<Figure size 432x288 with 1 Axes>"
            ]
          },
          "metadata": {
            "tags": []
          }
        }
      ]
    },
    {
      "cell_type": "code",
      "metadata": {
        "id": "Ccu4zOrSNbOk",
        "colab_type": "code",
        "colab": {}
      },
      "source": [
        "w=xx\n",
        "zz=w*xx"
      ],
      "execution_count": null,
      "outputs": []
    },
    {
      "cell_type": "code",
      "metadata": {
        "id": "5xZ07YDNO_2a",
        "colab_type": "code",
        "colab": {
          "base_uri": "https://localhost:8080/",
          "height": 54
        },
        "outputId": "7c949e98-87d3-46cb-83df-fa599a5ffe27"
      },
      "source": [
        "zz"
      ],
      "execution_count": null,
      "outputs": [
        {
          "output_type": "execute_result",
          "data": {
            "text/plain": [
              "array([100,  81,  64,  49,  36,  25,  16,   9,   4,   1,   0,   1,   4,\n",
              "         9,  16,  25,  36,  49,  64,  81, 100])"
            ]
          },
          "metadata": {
            "tags": []
          },
          "execution_count": 6
        }
      ]
    },
    {
      "cell_type": "code",
      "metadata": {
        "id": "X32In90zPCDp",
        "colab_type": "code",
        "colab": {
          "base_uri": "https://localhost:8080/",
          "height": 35
        },
        "outputId": "e2f8b32c-21e8-49a5-d5ab-f5b9ef331c27"
      },
      "source": [
        "sum(zz)"
      ],
      "execution_count": null,
      "outputs": [
        {
          "output_type": "execute_result",
          "data": {
            "text/plain": [
              "770"
            ]
          },
          "metadata": {
            "tags": []
          },
          "execution_count": 7
        }
      ]
    },
    {
      "cell_type": "code",
      "metadata": {
        "id": "Ea3buivAPFuK",
        "colab_type": "code",
        "colab": {
          "base_uri": "https://localhost:8080/",
          "height": 35
        },
        "outputId": "b180b3f9-3769-42c0-b60d-703434fe8bbb"
      },
      "source": [
        "k=np.dot(w,xx)\n",
        "k"
      ],
      "execution_count": null,
      "outputs": [
        {
          "output_type": "execute_result",
          "data": {
            "text/plain": [
              "770"
            ]
          },
          "metadata": {
            "tags": []
          },
          "execution_count": 8
        }
      ]
    },
    {
      "cell_type": "code",
      "metadata": {
        "id": "P5_wisezPOHx",
        "colab_type": "code",
        "colab": {
          "base_uri": "https://localhost:8080/",
          "height": 35
        },
        "outputId": "664f6aa9-0510-4945-9e1e-ac9a7bc72429"
      },
      "source": [
        "sig_moid(k)"
      ],
      "execution_count": null,
      "outputs": [
        {
          "output_type": "execute_result",
          "data": {
            "text/plain": [
              "1.0"
            ]
          },
          "metadata": {
            "tags": []
          },
          "execution_count": 9
        }
      ]
    },
    {
      "cell_type": "markdown",
      "metadata": {
        "id": "FPRATsg7SFNb",
        "colab_type": "text"
      },
      "source": [
        "tanh"
      ]
    },
    {
      "cell_type": "code",
      "metadata": {
        "id": "QZXREu68PkoI",
        "colab_type": "code",
        "colab": {
          "base_uri": "https://localhost:8080/",
          "height": 54
        },
        "outputId": "4649f2a6-efec-4053-d778-b94b316d525b"
      },
      "source": [
        "def tanh(x):\n",
        "  z=(1-np.exp(-2*x))/(1+np.exp(-2*x))\n",
        "  return z\n",
        "x=list(range(-10,11))\n",
        "xx=np.array(x)\n",
        "xx"
      ],
      "execution_count": null,
      "outputs": [
        {
          "output_type": "execute_result",
          "data": {
            "text/plain": [
              "array([-10,  -9,  -8,  -7,  -6,  -5,  -4,  -3,  -2,  -1,   0,   1,   2,\n",
              "         3,   4,   5,   6,   7,   8,   9,  10])"
            ]
          },
          "metadata": {
            "tags": []
          },
          "execution_count": 10
        }
      ]
    },
    {
      "cell_type": "code",
      "metadata": {
        "id": "kr2ks6dXQoBk",
        "colab_type": "code",
        "colab": {
          "base_uri": "https://localhost:8080/",
          "height": 109
        },
        "outputId": "8875815b-9997-4b8c-d492-949fa2d187f5"
      },
      "source": [
        "y=tanh(xx)\n",
        "y"
      ],
      "execution_count": null,
      "outputs": [
        {
          "output_type": "execute_result",
          "data": {
            "text/plain": [
              "array([-1.        , -0.99999997, -0.99999977, -0.99999834, -0.99998771,\n",
              "       -0.9999092 , -0.9993293 , -0.99505475, -0.96402758, -0.76159416,\n",
              "        0.        ,  0.76159416,  0.96402758,  0.99505475,  0.9993293 ,\n",
              "        0.9999092 ,  0.99998771,  0.99999834,  0.99999977,  0.99999997,\n",
              "        1.        ])"
            ]
          },
          "metadata": {
            "tags": []
          },
          "execution_count": 11
        }
      ]
    },
    {
      "cell_type": "code",
      "metadata": {
        "id": "2RTZ4khlRgU7",
        "colab_type": "code",
        "colab": {
          "base_uri": "https://localhost:8080/",
          "height": 283
        },
        "outputId": "39e93467-b36b-4d46-f67e-180b32315db4"
      },
      "source": [
        "plt.plot(xx,y)"
      ],
      "execution_count": null,
      "outputs": [
        {
          "output_type": "execute_result",
          "data": {
            "text/plain": [
              "[<matplotlib.lines.Line2D at 0x7f4be1e99ba8>]"
            ]
          },
          "metadata": {
            "tags": []
          },
          "execution_count": 12
        },
        {
          "output_type": "display_data",
          "data": {
            "image/png": "[encoded data removed]",
            "text/plain": [
              "<Figure size 432x288 with 1 Axes>"
            ]
          },
          "metadata": {
            "tags": []
          }
        }
      ]
    },
    {
      "cell_type": "markdown",
      "metadata": {
        "id": "CKYb4Do5SNX6",
        "colab_type": "text"
      },
      "source": [
        "relu"
      ]
    },
    {
      "cell_type": "code",
      "metadata": {
        "id": "zYuVNOxvRkl0",
        "colab_type": "code",
        "colab": {}
      },
      "source": [
        "def relu(x):\n",
        "  return np.maximum(0,x)"
      ],
      "execution_count": null,
      "outputs": []
    },
    {
      "cell_type": "code",
      "metadata": {
        "id": "r631Gc_ZTV5B",
        "colab_type": "code",
        "colab": {}
      },
      "source": [
        "x=list(range(-10,11))\n",
        "xx=np.array(x)\n"
      ],
      "execution_count": null,
      "outputs": []
    },
    {
      "cell_type": "code",
      "metadata": {
        "id": "QHxXTBbeTieQ",
        "colab_type": "code",
        "colab": {
          "base_uri": "https://localhost:8080/",
          "height": 54
        },
        "outputId": "27c5a882-b893-456e-b32d-a93ecc15165b"
      },
      "source": [
        "y=relu(xx)\n",
        "y"
      ],
      "execution_count": null,
      "outputs": [
        {
          "output_type": "execute_result",
          "data": {
            "text/plain": [
              "array([ 0,  0,  0,  0,  0,  0,  0,  0,  0,  0,  0,  1,  2,  3,  4,  5,  6,\n",
              "        7,  8,  9, 10])"
            ]
          },
          "metadata": {
            "tags": []
          },
          "execution_count": 15
        }
      ]
    },
    {
      "cell_type": "code",
      "metadata": {
        "id": "KnEXwK-dTl0Q",
        "colab_type": "code",
        "colab": {
          "base_uri": "https://localhost:8080/",
          "height": 283
        },
        "outputId": "c71700f8-312d-401a-b73b-a6dd31ef89d3"
      },
      "source": [
        "plt.plot(xx,y)"
      ],
      "execution_count": null,
      "outputs": [
        {
          "output_type": "execute_result",
          "data": {
            "text/plain": [
              "[<matplotlib.lines.Line2D at 0x7f4be1d9c390>]"
            ]
          },
          "metadata": {
            "tags": []
          },
          "execution_count": 16
        },
        {
          "output_type": "display_data",
          "data": {
            "image/png": "[encoded data removed]",
            "text/plain": [
              "<Figure size 432x288 with 1 Axes>"
            ]
          },
          "metadata": {
            "tags": []
          }
        }
      ]
    },
    {
      "cell_type": "markdown",
      "metadata": {
        "id": "ll7P9mYTVqA4",
        "colab_type": "text"
      },
      "source": [
        "leaky"
      ]
    },
    {
      "cell_type": "code",
      "metadata": {
        "id": "9AZWp9AUVpdm",
        "colab_type": "code",
        "colab": {}
      },
      "source": [
        "def leaky(x):\n",
        "  return np.maximum(0.01*x,x)"
      ],
      "execution_count": null,
      "outputs": []
    },
    {
      "cell_type": "code",
      "metadata": {
        "id": "YlPMkc99VnUt",
        "colab_type": "code",
        "colab": {}
      },
      "source": [
        "x=list(range(-10,11))\n",
        "xx=np.array(x)"
      ],
      "execution_count": null,
      "outputs": []
    },
    {
      "cell_type": "code",
      "metadata": {
        "id": "Ni7mFQeNYaFq",
        "colab_type": "code",
        "colab": {
          "base_uri": "https://localhost:8080/",
          "height": 72
        },
        "outputId": "50c44f82-a600-4e85-9f7d-5df73e688630"
      },
      "source": [
        "y=leaky(xx)\n",
        "y"
      ],
      "execution_count": null,
      "outputs": [
        {
          "output_type": "execute_result",
          "data": {
            "text/plain": [
              "array([-0.1 , -0.09, -0.08, -0.07, -0.06, -0.05, -0.04, -0.03, -0.02,\n",
              "       -0.01,  0.  ,  1.  ,  2.  ,  3.  ,  4.  ,  5.  ,  6.  ,  7.  ,\n",
              "        8.  ,  9.  , 10.  ])"
            ]
          },
          "metadata": {
            "tags": []
          },
          "execution_count": 19
        }
      ]
    },
    {
      "cell_type": "code",
      "metadata": {
        "id": "i1aG9kzqYcrR",
        "colab_type": "code",
        "colab": {
          "base_uri": "https://localhost:8080/",
          "height": 283
        },
        "outputId": "e0c9986e-8700-4509-d2eb-738b3e82b98c"
      },
      "source": [
        "plt.plot(xx,y)"
      ],
      "execution_count": null,
      "outputs": [
        {
          "output_type": "execute_result",
          "data": {
            "text/plain": [
              "[<matplotlib.lines.Line2D at 0x7f4be1d816d8>]"
            ]
          },
          "metadata": {
            "tags": []
          },
          "execution_count": 20
        },
        {
          "output_type": "display_data",
          "data": {
            "image/png": "[encoded data removed]",
            "text/plain": [
              "<Figure size 432x288 with 1 Axes>"
            ]
          },
          "metadata": {
            "tags": []
          }
        }
      ]
    },
    {
      "cell_type": "markdown",
      "metadata": {
        "id": "rtERDMNmYx_K",
        "colab_type": "text"
      },
      "source": [
        "elu"
      ]
    },
    {
      "cell_type": "code",
      "metadata": {
        "id": "AzxzgBdmYf6x",
        "colab_type": "code",
        "colab": {}
      },
      "source": [
        "def elu(x):\n",
        "  a=0.2\n",
        "  if x>0:\n",
        "    return x\n",
        "  else:\n",
        "    return a*(np.exp(x)-1)"
      ],
      "execution_count": null,
      "outputs": []
    },
    {
      "cell_type": "code",
      "metadata": {
        "id": "sFISgoTZZ2bt",
        "colab_type": "code",
        "colab": {}
      },
      "source": [
        "x=list(range(-10,11))\n",
        "xx=np.array(x)"
      ],
      "execution_count": null,
      "outputs": []
    },
    {
      "cell_type": "code",
      "metadata": {
        "id": "EAFv-g3CZ_q2",
        "colab_type": "code",
        "colab": {}
      },
      "source": [
        "yy=[]\n",
        "for i in x:\n",
        "  y=elu(i)\n",
        "  yy.append(y)\n"
      ],
      "execution_count": null,
      "outputs": []
    },
    {
      "cell_type": "code",
      "metadata": {
        "id": "ww_zMoK0aZbp",
        "colab_type": "code",
        "colab": {}
      },
      "source": [
        "yyy=np.array(yy)"
      ],
      "execution_count": null,
      "outputs": []
    },
    {
      "cell_type": "code",
      "metadata": {
        "id": "InCES8PNan2J",
        "colab_type": "code",
        "colab": {
          "base_uri": "https://localhost:8080/",
          "height": 283
        },
        "outputId": "f3c63438-96a2-436e-9e1a-5d37fccd9815"
      },
      "source": [
        "plt.plot(xx,yyy)"
      ],
      "execution_count": null,
      "outputs": [
        {
          "output_type": "execute_result",
          "data": {
            "text/plain": [
              "[<matplotlib.lines.Line2D at 0x7f4be1ceca58>]"
            ]
          },
          "metadata": {
            "tags": []
          },
          "execution_count": 25
        },
        {
          "output_type": "display_data",
          "data": {
            "image/png": "[encoded data removed]",
            "text/plain": [
              "<Figure size 432x288 with 1 Axes>"
            ]
          },
          "metadata": {
            "tags": []
          }
        }
      ]
    },
    {
      "cell_type": "markdown",
      "metadata": {
        "id": "3TysiRQubuOL",
        "colab_type": "text"
      },
      "source": [
        "softmax"
      ]
    },
    {
      "cell_type": "code",
      "metadata": {
        "id": "AQRIgX5sbtzl",
        "colab_type": "code",
        "colab": {}
      },
      "source": [
        "def soft(x):\n",
        "  z=np.exp(x)/np.sum(np.exp(x))\n",
        "  return z\n"
      ],
      "execution_count": null,
      "outputs": []
    },
    {
      "cell_type": "code",
      "metadata": {
        "id": "FN4mQfu1a36J",
        "colab_type": "code",
        "colab": {}
      },
      "source": [
        "x=list(range(-10,11))\n",
        "xx=np.array(x)"
      ],
      "execution_count": null,
      "outputs": []
    },
    {
      "cell_type": "code",
      "metadata": {
        "id": "FYt-yUnlst_W",
        "colab_type": "code",
        "colab": {}
      },
      "source": [
        "y=soft(xx)"
      ],
      "execution_count": null,
      "outputs": []
    },
    {
      "cell_type": "code",
      "metadata": {
        "id": "RS_hqFdos8gQ",
        "colab_type": "code",
        "colab": {
          "base_uri": "https://localhost:8080/",
          "height": 283
        },
        "outputId": "09d97ec2-9506-4cb8-8d8b-d7ebe398e22a"
      },
      "source": [
        "plt.plot(xx,y)"
      ],
      "execution_count": null,
      "outputs": [
        {
          "output_type": "execute_result",
          "data": {
            "text/plain": [
              "[<matplotlib.lines.Line2D at 0x7f4be1cd0cc0>]"
            ]
          },
          "metadata": {
            "tags": []
          },
          "execution_count": 29
        },
        {
          "output_type": "display_data",
          "data": {
            "image/png": "[encoded data removed]",
            "text/plain": [
              "<Figure size 432x288 with 1 Axes>"
            ]
          },
          "metadata": {
            "tags": []
          }
        }
      ]
    },
    {
      "cell_type": "code",
      "metadata": {
        "id": "mRp1lWAttBh_",
        "colab_type": "code",
        "colab": {}
      },
      "source": [
        ""
      ],
      "execution_count": null,
      "outputs": []
    }
  ]
}